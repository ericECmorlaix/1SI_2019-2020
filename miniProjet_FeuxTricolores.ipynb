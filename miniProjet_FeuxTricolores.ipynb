{
 "cells": [
  {
   "cell_type": "markdown",
   "metadata": {},
   "source": [
    "# Mini-Projet : système programmé de gestion de Feux Tricolores \n",
    "## Mise en situation :\n",
    "\n",
    ">(Source : http://fr.wikipedia.org/wiki/Carrefour à feux) \n",
    "> \n",
    ">Un carrefour à feux est une intersection dont le trafic est réglé par des feux de signalisation lumineux pilotés par un contrôleur. Le réglage des cycles de feux doit permettre d'assurer la sécurité des automobilistes et des piétons tout en permettant un débit maximal. En voirie urbaine, les feux tricolores permettent de réguler et sécuriser les flux denses de véhicules rapides, à condition d'être utilisés et réglés avec pertinence. \n",
    "> \n",
    ">Un carrefour à feux tricolores est commandé par un contrôleur de feux, appareil électronique de contrôle/commande.\n",
    ">\n",
    ">La fonction principale d'un contrôleur est d'assurer la commande des feux en respectant les contraintes de sécurité définies entre les lignes de feux antagonistes.\n",
    ">\n",
    ">Afin d'effectuer une régulation dynamique en fonction du trafic, le contrôleur est capable de détecter les véhicules (généralement via des boucles électro-magnétiques placées dans la chaussée ou parfois par des radars à effet Doppler fixés en haut des poteaux) et les piétons (via des boutons-poussoirs d'appels).\n",
    ">\n",
    ">Tous les contrôleurs actuels fonctionnent à base de micro-processeurs. "
   ]
  },
  {
   "cell_type": "markdown",
   "metadata": {},
   "source": [
    "## Problématique : \n",
    " \n",
    "Le traﬁc routier urbain est au cœur de nombreuses problématiques : plus encore ces dernières années, cet aspect critique intervenant au quotidien est défavorable à de nombreux domaines, tels que l’économie ou encore l’écologie. \n",
    "Une bonne gestion de ce trafic passe, en particulier, par l’application d’une stratégie de commande des feux de circulation au niveau des intersections. En effet, d'après plusieurs études, les feux de circulation seraient responsables de la moitié des files et donc de la moitié de la pollution, et des feux mal réglés peuvent entraîner le triplement de la consommation de carburant, donc les émissions de CO2, lorsque la circulation est encombrée ou trop peu dense. \n",
    "Les feux de circulation sécurisent le franchissement d'une intersection à plus de 30 km/h, mais des accidents graves peuvent survenir s'ils ne sont pas observés correctement. (Source : http://fr.wikipedia.org/wiki/Feu_de_signalisation_routier) \n",
    " \n",
    "Plus accidentogène pour les véhicules motorisés, les feux sont souvent remplacés par des carrefours giratoires. Mais peut-on remplacer tous les feux par des «ronds-points » ? \n",
    "En agglomération ou sur voies à fort trafic (voies rapides urbaines par exemple), dans le cas de 2 flux de circulation importants se croisant, le carrefour giratoire impliquera une saturation des 2 flux même si un seul pose problème, ce qui n'est pas le cas avec des feux tricolores. Hors agglomération, son usage impose ralentissements et réaccélérations, ce qui est préjudiciable à la consommation de carburant. Il est cependant très utilisé en France, même sur des routes à faible trafic et des portions à 2x2 voies, mais ce n'est pas général : en Allemagne par exemple, les voies d'insertion, parfois avec échangeur, sont plus communes. \n",
    "Si la sécurité des automobiles est améliorée, ce n'est pas le cas de celle des cyclistes et des piétons, pour lesquels ce type de carrefour présente plus de danger par rapport aux carrefours traditionnels. Les piétons sont particulièrement vulnérables lorsqu'ils doivent traverser une voie sortant d'un rond-point, tandis que les cyclistes, qui doivent généralement, à cause de la différence de vitesse, tenir le côté extérieur, peuvent être renversés lors de l'entrée ou de la sortie d'un véhicule. \n",
    " \n",
    "On le constate ici, à l’intersection, le système parfait tant pour les piétons, les cyclistes, les automobilistes, les transports en commun, …, reste à inventer… \n",
    " \n",
    "Une des grandes questions restant à résoudre aujourd’hui en matière de gestion de trafic urbain est donc : quelle intelligence faut-il programmer dans le contrôleur de feux pour rendre un carrefour idéal pour tous ses usagers ?  \n",
    "\n",
    "## Objectif : \n",
    "Apprendre à programmer une carte à microcontrôleur afin de gérer l’allumage des feux de circulation d’une maquette d’intersection en prenant en compte progressivement les différents aspects du cahier des charges fonctionnel de ce type d’installation. \n",
    " \n",
    "## Prolongement : \n",
    "Proposer des solutions matérielles et logicielles innovantes pour développer de nouvelles fonctionnalités afin d’améliorer la fluidité du trafic, le confort, et la sécurité des différents usagers de l’intersection… "
   ]
  },
  {
   "cell_type": "markdown",
   "metadata": {},
   "source": [
    "## Travail demandé :\n",
    "### CDCF1 : Fonction de sécurité\n",
    "> (source http://fr.wikipedia.org/wiki/Contrôleur de carrefour à feux) \n",
    ">\n",
    "> Le contrôleur doit vérifier que les signaux soient correctement allumés ou éteints suivant ce qui est commandé (mesure du courant et de la tension). \n",
    ">\n",
    "> La réglementation en vigueur impose au minimum que le signal de rouge principal soit contrôlé à des fins de sécurité. \n",
    ">\n",
    "> En cas de défaut sur un de ces signaux, le contrôleur passe en clignotant de sécurité (feux jaunes qui clignotent à la seconde). \n",
    ">\n",
    "> En cas de défaillance générale détectée, un dispositif dit de \"chien de garde\" matériel se doit également d'effectuer la gestion du clignotant de sécurité. \n",
    " \n",
    "#### Activité 1 : \n",
    "Avec l’aide du notebook « [Robotique-La_fonction_traiter_en_µPython](Robotique-La_fonction_traiter_en_µPython.ipynb) », prendre en main le matériel en faisant le test du “Hello world !” des µC qui consiste généralement à allumer une Led. \n",
    "\n",
    "Repérer sur la maquette le n° des broches de raccordement des leds jaunes et programmer la carte BBC micro:bit pour que ces leds jaunes clignotent avec une fréquence de 1 Hz pour reproduire la fonction de mise en sécurité de l’intersection. \n",
    "\n",
    "Dessiner l’algorigramme, rédiger un pseudo-code et coller ci-dessous votre programme MicroPython correspondant à cette situation de fonctionnement du système."
   ]
  },
  {
   "cell_type": "markdown",
   "metadata": {},
   "source": [
    "```code\n",
    "# Ecrire ici votre pseudo-programme\n",
    "\n",
    "\n",
    "```"
   ]
  },
  {
   "cell_type": "markdown",
   "metadata": {},
   "source": [
    "### CDCF2 : Séquence de feux de signalisation à trois états\n",
    "> (source http://fr.wikipedia.org/wiki/Feux_de_circulation_routière)\n",
    ">\n",
    "> Utilisé en France, aux États-Unis, au Canada, en Nouvelle-Zélande, au Sénégal et en Belgique.\n",
    ">\n",
    "> Rouge : « Tout conducteur doit marquer l'arrêt absolu devant un feu de signalisation rouge, fixe ou clignotant. »\n",
    ">\n",
    "> Vert : « Les feux de signalisation verts autorisent le passage des véhicules […]. » \n",
    ">\n",
    "> Jaune : « Tout conducteur doit marquer l'arrêt devant un feu de signalisation jaune fixe, sauf dans le cas où, lors de l'allumage dudit feu, > le conducteur ne peut plus arrêter son véhicule dans des conditions de sécurité suffisantes. » \n",
    " \n",
    "####  Activité 2 : \n",
    "Retranscrire sous la forme d’un chronogramme le cycle attendu pour l’allumage d'un feux tricolores en France sachant que le feu vert restera allumé durant 5 secondes, le feu orange restera allumé durant 2 secondes, et le feu rouge restera allumés durant 8 secondes\n",
    "\n",
    "Repérer le n° des broches de raccordement des leds rouge et verte et programmer la carte BBC micro:bit pour reproduire cette séquence d’allumage des feux.\n",
    "\n",
    "Dessiner l’algorigramme, rédiger un pseudo-code et coller ci-dessous votre programme MicroPython correspondant à cette situation de fonctionnement du système."
   ]
  },
  {
   "cell_type": "code",
   "execution_count": null,
   "metadata": {},
   "outputs": [],
   "source": []
  },
  {
   "cell_type": "markdown",
   "metadata": {},
   "source": [
    "#### Activité 3 :\n",
    "Ajouter la gestion des piétons...\n",
    "\n",
    "Dessiner l’algorigramme, rédiger un pseudo-code et coller ci-dessous votre programme MicroPython correspondant à cette situation de fonctionnement du système."
   ]
  },
  {
   "cell_type": "code",
   "execution_count": null,
   "metadata": {},
   "outputs": [],
   "source": []
  },
  {
   "cell_type": "markdown",
   "metadata": {},
   "source": [
    "#### Activité 4 :\n",
    "Découvrer et programmer d'autres mode fonctionnement à travers le monde : en Allemagne, par exemple...\n",
    "\n",
    "Dessiner l’algorigramme, rédiger un pseudo-code et coller ci-dessous votre programme MicroPython correspondant à cette situation de fonctionnement du système."
   ]
  },
  {
   "cell_type": "code",
   "execution_count": null,
   "metadata": {},
   "outputs": [],
   "source": []
  },
  {
   "cell_type": "markdown",
   "metadata": {},
   "source": [
    "#### Activité 5 :\n",
    "Immaginer une solution pour gérer les feux de signalisation d'un carrefour sachant que, par sécurité, les feux rouges doivent rester allumés ensemble durant une seconde commune...\n",
    "\n",
    "Dessiner l’algorigramme, rédiger un pseudo-code et coller ci-dessous votre programme MicroPython correspondant à cette situation de fonctionnement du système."
   ]
  },
  {
   "cell_type": "code",
   "execution_count": null,
   "metadata": {},
   "outputs": [],
   "source": []
  },
  {
   "cell_type": "markdown",
   "metadata": {},
   "source": [
    "#### Activité 6 :\n",
    "Proposer et lister ici d’autres fonctionnalités à prendre en compte... "
   ]
  },
  {
   "cell_type": "code",
   "execution_count": null,
   "metadata": {},
   "outputs": [],
   "source": []
  }
 ],
 "metadata": {
  "kernelspec": {
   "display_name": "Python 3",
   "language": "python",
   "name": "python3"
  },
  "language_info": {
   "codemirror_mode": {
    "name": "ipython",
    "version": 3
   },
   "file_extension": ".py",
   "mimetype": "text/x-python",
   "name": "python",
   "nbconvert_exporter": "python",
   "pygments_lexer": "ipython3",
   "version": "3.7.3"
  },
  "varInspector": {
   "cols": {
    "lenName": 16,
    "lenType": 16,
    "lenVar": 40
   },
   "kernels_config": {
    "python": {
     "delete_cmd_postfix": "",
     "delete_cmd_prefix": "del ",
     "library": "var_list.py",
     "varRefreshCmd": "print(var_dic_list())"
    },
    "r": {
     "delete_cmd_postfix": ") ",
     "delete_cmd_prefix": "rm(",
     "library": "var_list.r",
     "varRefreshCmd": "cat(var_dic_list()) "
    }
   },
   "types_to_exclude": [
    "module",
    "function",
    "builtin_function_or_method",
    "instance",
    "_Feature"
   ],
   "window_display": false
  }
 },
 "nbformat": 4,
 "nbformat_minor": 2
}
